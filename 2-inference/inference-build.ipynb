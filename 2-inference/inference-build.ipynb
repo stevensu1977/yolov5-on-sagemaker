{
  "cells": [
    {
      "cell_type": "markdown",
      "source": [
        "# YOLOv5 on SageMaker--Build 推理镜像"
      ],
      "metadata": {}
    },
    {
      "cell_type": "markdown",
      "source": [
        "## 1 说明\n",
        "本章内容为build推理镜像，推送到AWS ECR，用户可直接使用build完毕的镜像，不用自己build。"
      ],
      "metadata": {}
    },
    {
      "cell_type": "markdown",
      "source": [
        "## 2 运行环境\n",
        "Kernel 选择pytorch_latest_p36。  \n",
        "本文在boto3 1.17.12和sagemaker 2.26.0下测试通过。"
      ],
      "metadata": {}
    },
    {
      "cell_type": "code",
      "source": [
        "import boto3,sagemaker\n",
        "print(boto3.__version__)\n",
        "print(sagemaker.__version__)"
      ],
      "outputs": [],
      "execution_count": null,
      "metadata": {}
    },
    {
      "cell_type": "markdown",
      "source": [
        "## 3 本地notebook推理(可选)"
      ],
      "metadata": {}
    },
    {
      "cell_type": "code",
      "source": [
        "!sudo mkdir /opt/ml\n",
        "!sudo chmod 777 /opt/ml"
      ],
      "outputs": [
        {
          "output_type": "stream",
          "name": "stdout",
          "text": [
            "mkdir: cannot create directory ‘/opt/ml’: File exists\n"
          ]
        }
      ],
      "execution_count": 34,
      "metadata": {}
    },
    {
      "cell_type": "code",
      "source": [
        "import os\n",
        "if not os.path.exists(\"/opt/ml/model\"):\n",
        "    os.mkdir(\"/opt/ml/model\")"
      ],
      "outputs": [],
      "execution_count": null,
      "metadata": {}
    },
    {
      "cell_type": "code",
      "source": [
        "!cp -r ../1-training/runs/ /opt/ml/model/"
      ],
      "outputs": [],
      "execution_count": null,
      "metadata": {}
    },
    {
      "cell_type": "markdown",
      "source": [
        "新启动一个shell窗口，运行`conda activate pytorch_latest_p36`，然后必须cd到`2-inference/source`目录，再运行`python predictor.py`，正常启动会输出以下内容：\n",
        "```\n",
        "-------------init_output_dir  /opt/ml/output_dir\n",
        " * Serving Flask app \"predictor\" (lazy loading)\n",
        " * Environment: production\n",
        "   WARNING: This is a development server. Do not use it in a production deployment.\n",
        "   Use a production WSGI server instead.\n",
        " * Debug mode: off\n",
        " * Running on http://127.0.0.1:5000/ (Press CTRL+C to quit)\n",
        "```"
      ],
      "metadata": {}
    },
    {
      "cell_type": "code",
      "source": [
        "#修改请求图片\n",
        "!curl -H \"Content-Type: application/json\" -X POST --data '{\"bucket\":\"junzhong\",\"image_uri\":\"yolov5/training/images/val/000729.jpeg\"}' http://127.0.0.1:5000/invocations"
      ],
      "outputs": [],
      "execution_count": null,
      "metadata": {}
    },
    {
      "cell_type": "code",
      "source": [
        "#删除model文件，实际运行时，通过S3动态传入model\n",
        "import os\n",
        "model_file = \"source/yolov5s.pt\"\n",
        "if os.path.isfile(model_file):\n",
        "    os.remove(model_file)"
      ],
      "outputs": [],
      "execution_count": null,
      "metadata": {}
    },
    {
      "cell_type": "markdown",
      "source": [
        "## 4 Amazon 深度学习容器\n",
        "\n",
        "* [容器镜像清单](https://github.com/aws/deep-learning-containers/blob/master/available_images.md)\n",
        "* 本文基于pytorch inference: `727897471807.dkr.ecr.cn-northwest-1.amazonaws.com.cn/pytorch-inference:1.6.0-gpu-py36-cu101-ubuntu16.04`"
      ],
      "metadata": {}
    },
    {
      "cell_type": "markdown",
      "source": [
        "## 5 设置相关名称"
      ],
      "metadata": {}
    },
    {
      "cell_type": "code",
      "source": [
        "ecr_repository = 'yolov5-inference'\n",
        "tag = 'latest'"
      ],
      "outputs": [],
      "execution_count": null,
      "metadata": {}
    },
    {
      "cell_type": "markdown",
      "source": [
        "## 6 Build image"
      ],
      "metadata": {}
    },
    {
      "cell_type": "code",
      "source": [
        "#国内pytorch inference基础镜像地址，不要修改\n",
        "base_img='727897471807.dkr.ecr.cn-northwest-1.amazonaws.com.cn/pytorch-inference:1.6.0-gpu-py36-cu101-ubuntu16.04'\n",
        "#登录基础镜像ECR，不要修改\n",
        "!aws ecr get-login-password --region cn-northwest-1 | docker login --username AWS --password-stdin 727897471807.dkr.ecr.cn-northwest-1.amazonaws.com.cn"
      ],
      "outputs": [],
      "execution_count": null,
      "metadata": {}
    },
    {
      "cell_type": "code",
      "source": [
        "!docker build -t $ecr_repository:$tag -f Dockerfile --build-arg BASE_IMG=$base_img ."
      ],
      "outputs": [],
      "execution_count": null,
      "metadata": {}
    },
    {
      "cell_type": "markdown",
      "source": [
        "## 7 在本地使用容器进行推理(可选)"
      ],
      "metadata": {}
    },
    {
      "cell_type": "code",
      "source": [
        "import os\n",
        "if not os.path.exists(\"model\"):\n",
        "    os.mkdir(\"model\")"
      ],
      "outputs": [],
      "execution_count": null,
      "metadata": {}
    },
    {
      "cell_type": "code",
      "source": [
        "!cp -r ../1-training/runs/ model/"
      ],
      "outputs": [],
      "execution_count": null,
      "metadata": {}
    },
    {
      "cell_type": "markdown",
      "source": [
        "本地机器如果带GPU，使用`nvidia-docker run`；如果不带GPU，使用`docker run`。"
      ],
      "metadata": {}
    },
    {
      "cell_type": "code",
      "source": [
        "!docker run -v $(pwd)/model/:/opt/ml/model/ -p 8080:8080 -d --rm $ecr_repository:$tag serve"
      ],
      "outputs": [],
      "execution_count": null,
      "metadata": {}
    },
    {
      "cell_type": "code",
      "source": [
        "#修改请求图片\n",
        "!curl -H \"Content-Type: application/json\" -X POST --data '{\"bucket\":\"junzhong\",\"image_uri\":\"yolov5/training/images/val/000729.jpeg\"}' http://127.0.0.1:8080/invocations"
      ],
      "outputs": [],
      "execution_count": null,
      "metadata": {}
    },
    {
      "cell_type": "markdown",
      "source": [
        "## 8  推送到ECR"
      ],
      "metadata": {}
    },
    {
      "cell_type": "code",
      "source": [
        "!aws ecr create-repository --repository-name $ecr_repository"
      ],
      "outputs": [],
      "execution_count": null,
      "metadata": {}
    },
    {
      "cell_type": "code",
      "source": [
        "import boto3\n",
        "region = boto3.session.Session().region_name\n",
        "account_id = boto3.client('sts').get_caller_identity().get('Account')\n",
        "image_uri = '{}.dkr.ecr.{}.amazonaws.com.cn/{}'.format(account_id, region, ecr_repository + \":\" + tag)\n",
        "!docker tag $ecr_repository:$tag $image_uri\n",
        "!$(aws ecr get-login --no-include-email)\n",
        "!docker push $image_uri"
      ],
      "outputs": [],
      "execution_count": null,
      "metadata": {}
    },
    {
      "cell_type": "code",
      "source": [],
      "outputs": [],
      "execution_count": null,
      "metadata": {}
    }
  ],
  "metadata": {
    "kernelspec": {
      "display_name": "Environment (conda_pytorch_latest_p37)",
      "language": "python",
      "name": "conda_pytorch_latest_p37"
    },
    "language_info": {
      "codemirror_mode": {
        "name": "ipython",
        "version": 3
      },
      "file_extension": ".py",
      "mimetype": "text/x-python",
      "name": "python",
      "nbconvert_exporter": "python",
      "pygments_lexer": "ipython3",
      "version": "3.7.10"
    },
    "nteract": {
      "version": "0.28.0"
    }
  },
  "nbformat": 4,
  "nbformat_minor": 4
}